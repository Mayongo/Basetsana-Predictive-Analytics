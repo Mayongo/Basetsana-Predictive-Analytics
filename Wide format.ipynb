{
 "cells": [
  {
   "cell_type": "code",
   "execution_count": 1,
   "id": "a1ec5cfc-b31e-4e10-81a8-5c30bb44e4c5",
   "metadata": {},
   "outputs": [],
   "source": [
    "import pandas as pd"
   ]
  },
  {
   "cell_type": "code",
   "execution_count": 5,
   "id": "b0fef118-3f3b-4bad-8a73-ecb7a23b995f",
   "metadata": {},
   "outputs": [
    {
     "name": "stdout",
     "output_type": "stream",
     "text": [
      "         Hscode  Year        Val          Vol\n",
      "0     H02071493  2020  700401143  62665850.69\n",
      "1     H03054100  2020       4843        18.03\n",
      "2     H04039090  2020    1133128     27351.02\n",
      "3     H04041000  2020    6530806    580869.65\n",
      "4     H04090000  2020      22623        17.90\n",
      "...         ...   ...        ...          ...\n",
      "9430  H96151100  2024     565691      4262.48\n",
      "9431  H96151900  2024     162196       178.35\n",
      "9432  H96159000  2024     154676      2635.75\n",
      "9433  H96170000  2024    5457594      3509.93\n",
      "9434  H96190030  2024       1265         3.98\n",
      "\n",
      "[9435 rows x 4 columns]\n"
     ]
    }
   ],
   "source": [
    "data = pd.read_excel('Long_format.xlsx')\n",
    "data.head(3)\n",
    "# Get position of 'Volume' column\n",
    "\n",
    "volume_idx = data.columns.get_loc('Vol')\n",
    "\n",
    "# Keep all columns up to 'Volume' (inclusive)\n",
    "data = data.iloc[:, :volume_idx + 1]\n",
    "print(data)"
   ]
  },
  {
   "cell_type": "code",
   "execution_count": 7,
   "id": "afaca07d-499c-4fcd-b487-0c8b06e1ed2f",
   "metadata": {},
   "outputs": [],
   "source": [
    "# First, pivot Value and Vol together using pd.wide_to_long approach manually:\n",
    "df_value = data.pivot(index='Hscode', columns='Year', values='Val')\n",
    "df_vol = data.pivot(index='Hscode', columns='Year', values='Vol')"
   ]
  },
  {
   "cell_type": "code",
   "execution_count": 8,
   "id": "2ef48b37-9835-47ea-afe1-f32e0fa0405e",
   "metadata": {},
   "outputs": [],
   "source": [
    "# Rename columns to indicate Value/Vol\n",
    "df_value.columns = [f\"{col}_Value\" for col in df_value.columns]\n",
    "df_vol.columns = [f\"{col}_Vol\" for col in df_vol.columns]"
   ]
  },
  {
   "cell_type": "code",
   "execution_count": 9,
   "id": "da652cc2-dcbd-48fa-a85f-7b6e0143c465",
   "metadata": {},
   "outputs": [],
   "source": [
    "# Join them back together horizontally\n",
    "df_wide = pd.concat([df_value, df_vol], axis=1).reset_index()"
   ]
  },
  {
   "cell_type": "code",
   "execution_count": 10,
   "id": "1ede0be6-77d4-4ecc-8192-b4d6afb4d7b7",
   "metadata": {},
   "outputs": [
    {
     "name": "stdout",
     "output_type": "stream",
     "text": [
      "      Hscode   2020_Value   2021_Value   2022_Value   2023_Value   2024_Value  \\\n",
      "0  H02071423          NaN     336156.0    3049547.0    1408184.0          NaN   \n",
      "1  H02071493  700401143.0  481800055.0  433459084.0  424215611.0  155539190.0   \n",
      "2  H03044200          NaN          NaN          NaN        401.0          NaN   \n",
      "3  H03054100       4843.0       6377.0      27870.0      33293.0      27252.0   \n",
      "4  H03055900          NaN          NaN         43.0        112.0        805.0   \n",
      "\n",
      "      2020_Vol     2021_Vol     2022_Vol     2023_Vol    2024_Vol  \n",
      "0          NaN     27000.00    449430.00    130170.00         NaN  \n",
      "1  62665850.69  38372635.97  30224976.47  24327872.04  6992369.00  \n",
      "2          NaN          NaN          NaN         0.45         NaN  \n",
      "3        18.03         8.28        54.88        27.00       27.84  \n",
      "4          NaN          NaN         0.49         0.61        0.63  \n"
     ]
    }
   ],
   "source": [
    "# View reshaped DataFrame\n",
    "print(df_wide.head())\n"
   ]
  },
  {
   "cell_type": "code",
   "execution_count": 11,
   "id": "d1c5bc6e-fc7e-4136-a8d3-d6b923e4ff37",
   "metadata": {},
   "outputs": [],
   "source": [
    "df_wide.to_excel('wide_format_data.xlsx', index=False)\n"
   ]
  },
  {
   "cell_type": "code",
   "execution_count": 17,
   "id": "c5ae41e5-393e-4584-b349-385d3d09645d",
   "metadata": {},
   "outputs": [],
   "source": [
    "# Load wide-format dataset (the one you pivoted earlier)\n",
    "df_wide = pd.read_excel('wide_format_data.xlsx')\n",
    "\n",
    "# Load the HSCode-Description dataset (long format)\n",
    "df_desc = pd.read_excel('descriptions_data.xlsx')  # Should have columns: HSCode, Description\n"
   ]
  },
  {
   "cell_type": "code",
   "execution_count": 18,
   "id": "2a7ee800-0949-4f17-9082-2a5a48a37c98",
   "metadata": {},
   "outputs": [
    {
     "name": "stdout",
     "output_type": "stream",
     "text": [
      "      Hscode   2020_Value   2021_Value   2022_Value   2023_Value   2024_Value  \\\n",
      "0  H02071423          NaN     336156.0    3049547.0    1408184.0          NaN   \n",
      "1  H02071423          NaN     336156.0    3049547.0    1408184.0          NaN   \n",
      "2  H02071423          NaN     336156.0    3049547.0    1408184.0          NaN   \n",
      "3  H02071493  700401143.0  481800055.0  433459084.0  424215611.0  155539190.0   \n",
      "4  H02071493  700401143.0  481800055.0  433459084.0  424215611.0  155539190.0   \n",
      "\n",
      "      2020_Vol     2021_Vol     2022_Vol     2023_Vol   2024_Vol   Description  \n",
      "0          NaN     27000.00    449430.00    130170.00        NaN          Feet  \n",
      "1          NaN     27000.00    449430.00    130170.00        NaN          Feet  \n",
      "2          NaN     27000.00    449430.00    130170.00        NaN          Feet  \n",
      "3  62665850.69  38372635.97  30224976.47  24327872.04  6992369.0  Leg quarters  \n",
      "4  62665850.69  38372635.97  30224976.47  24327872.04  6992369.0  Leg quarters  \n"
     ]
    }
   ],
   "source": [
    "# Merge on HSCode\n",
    "df_final = pd.merge(df_wide, df_desc, on='Hscode', how='left')\n",
    "\n",
    "# View final dataset\n",
    "print(df_final.head())"
   ]
  },
  {
   "cell_type": "code",
   "execution_count": 16,
   "id": "8779aaaf-5fe2-407b-af10-56a977975def",
   "metadata": {},
   "outputs": [],
   "source": [
    "df_final.to_excel('wide_data_with_descriptions.xlsx', index=False)"
   ]
  },
  {
   "cell_type": "code",
   "execution_count": null,
   "id": "53691239-2c8e-42b1-a98c-5e79c70758b7",
   "metadata": {},
   "outputs": [],
   "source": []
  }
 ],
 "metadata": {
  "kernelspec": {
   "display_name": "Python 3 (ipykernel)",
   "language": "python",
   "name": "python3"
  },
  "language_info": {
   "codemirror_mode": {
    "name": "ipython",
    "version": 3
   },
   "file_extension": ".py",
   "mimetype": "text/x-python",
   "name": "python",
   "nbconvert_exporter": "python",
   "pygments_lexer": "ipython3",
   "version": "3.12.7"
  }
 },
 "nbformat": 4,
 "nbformat_minor": 5
}
